{
 "cells": [
  {
   "cell_type": "code",
   "execution_count": 1,
   "id": "d20453b2-65e5-40ea-8be2-6e5ee6b4cd2a",
   "metadata": {},
   "outputs": [
    {
     "name": "stdout",
     "output_type": "stream",
     "text": [
      "231\n"
     ]
    }
   ],
   "source": [
    "#Q1\n",
    "def minimumDeleteSum(s1, s2):\n",
    "    m, n = len(s1), len(s2)\n",
    "    dp = [[0] * (n+1) for _ in range(m+1)]\n",
    "\n",
    "    # Initialize first row and column\n",
    "    for i in range(1, m+1):\n",
    "        dp[i][0] = dp[i-1][0] + ord(s1[i-1])\n",
    "    for j in range(1, n+1):\n",
    "        dp[0][j] = dp[0][j-1] + ord(s2[j-1])\n",
    "\n",
    "    # Populate the dp matrix\n",
    "    for i in range(1, m+1):\n",
    "        for j in range(1, n+1):\n",
    "            if s1[i-1] == s2[j-1]:\n",
    "                dp[i][j] = dp[i-1][j-1]\n",
    "            else:\n",
    "                dp[i][j] = min(dp[i-1][j] + ord(s1[i-1]), dp[i][j-1] + ord(s2[j-1]))\n",
    "\n",
    "    return dp[m][n]\n",
    "s1 = \"sea\"\n",
    "s2 = \"eat\"\n",
    "result = minimumDeleteSum(s1, s2)\n",
    "print(result) "
   ]
  },
  {
   "cell_type": "code",
   "execution_count": 2,
   "id": "156bf7dc-818b-4bcc-849e-12ca69c5f14d",
   "metadata": {},
   "outputs": [
    {
     "name": "stdout",
     "output_type": "stream",
     "text": [
      "True\n"
     ]
    }
   ],
   "source": [
    "#Q2\n",
    "def checkValidString(s):\n",
    "    stack = []\n",
    "\n",
    "    for c in s:\n",
    "        if c == '(' or c == '*':\n",
    "            stack.append(c)\n",
    "        elif c == ')':\n",
    "            if stack and (stack[-1] == '(' or stack[-1] == '*'):\n",
    "                stack.pop()\n",
    "            else:\n",
    "                return False\n",
    "\n",
    "    count = 0\n",
    "    for c in stack[::-1]:\n",
    "        if c == '(':\n",
    "            count += 1\n",
    "        elif c == '*':\n",
    "            count -= 1\n",
    "            if count < 0:\n",
    "                return False\n",
    "\n",
    "    return True\n",
    "s = \"()\"\n",
    "result = checkValidString(s)\n",
    "print(result)  \n"
   ]
  },
  {
   "cell_type": "code",
   "execution_count": 3,
   "id": "00da5d72-37ea-4acd-b8f8-e185b5282549",
   "metadata": {},
   "outputs": [
    {
     "name": "stdout",
     "output_type": "stream",
     "text": [
      "2\n"
     ]
    }
   ],
   "source": [
    "#Q3\n",
    "def minSteps(word1, word2):\n",
    "    m, n = len(word1), len(word2)\n",
    "    dp = [[0] * (n+1) for _ in range(m+1)]\n",
    "\n",
    "    # Initialize first row and column\n",
    "    for j in range(1, n+1):\n",
    "        dp[0][j] = dp[0][j-1] + 1\n",
    "    for i in range(1, m+1):\n",
    "        dp[i][0] = dp[i-1][0] + 1\n",
    "\n",
    "    # Populate the dp matrix\n",
    "    for i in range(1, m+1):\n",
    "        for j in range(1, n+1):\n",
    "            if word1[i-1] == word2[j-1]:\n",
    "                dp[i][j] = dp[i-1][j-1]\n",
    "            else:\n",
    "                dp[i][j] = min(dp[i-1][j] + 1, dp[i][j-1] + 1)\n",
    "\n",
    "    return dp[m][n]\n",
    "word1 = \"sea\"\n",
    "word2 = \"eat\"\n",
    "result = minSteps(word1, word2)\n",
    "print(result) "
   ]
  },
  {
   "cell_type": "code",
   "execution_count": null,
   "id": "1fc24dec-cbe7-48a7-9f6d-eb4a937d4f88",
   "metadata": {},
   "outputs": [],
   "source": [
    "#Q4\n"
   ]
  },
  {
   "cell_type": "code",
   "execution_count": 4,
   "id": "cec588a5-12f9-4628-b570-783eee0673dc",
   "metadata": {},
   "outputs": [
    {
     "name": "stdout",
     "output_type": "stream",
     "text": [
      "6\n",
      "['a', '2', 'b', '2', 'c', '3']\n"
     ]
    }
   ],
   "source": [
    "#Q5\n",
    "def compress(chars):\n",
    "    write = 0\n",
    "    count = 1\n",
    "\n",
    "    for i in range(1, len(chars)):\n",
    "        if chars[i] == chars[i - 1]:\n",
    "            count += 1\n",
    "        else:\n",
    "            chars[write] = chars[i - 1]\n",
    "            write += 1\n",
    "\n",
    "            if count > 1:\n",
    "                count_str = str(count)\n",
    "                for digit in count_str:\n",
    "                    chars[write] = digit\n",
    "                    write += 1\n",
    "\n",
    "            count = 1\n",
    "\n",
    "    chars[write] = chars[-1]\n",
    "    write += 1\n",
    "\n",
    "    if count > 1:\n",
    "        count_str = str(count)\n",
    "        for digit in count_str:\n",
    "            chars[write] = digit\n",
    "            write += 1\n",
    "\n",
    "    return write\n",
    "chars = [\"a\",\"a\",\"b\",\"b\",\"c\",\"c\",\"c\"]\n",
    "result = compress(chars)\n",
    "print(result) \n",
    "print(chars[:result])  \n"
   ]
  },
  {
   "cell_type": "code",
   "execution_count": 5,
   "id": "8efea22c-51ea-45d1-9d8f-490166f3bbc0",
   "metadata": {},
   "outputs": [
    {
     "name": "stdout",
     "output_type": "stream",
     "text": [
      "[0, 6]\n"
     ]
    }
   ],
   "source": [
    "#Q6\n",
    "def findAnagrams(s, p):\n",
    "    result = []\n",
    "    p_freq = [0] * 26\n",
    "    window_freq = [0] * 26\n",
    "\n",
    "    # Calculate the frequency of characters in p\n",
    "    for ch in p:\n",
    "        p_freq[ord(ch) - ord('a')] += 1\n",
    "\n",
    "    left, right = 0, 0\n",
    "\n",
    "    while right < len(s):\n",
    "        # Expand the window by incrementing the frequency of the character at right pointer\n",
    "        window_freq[ord(s[right]) - ord('a')] += 1\n",
    "\n",
    "        # Shrink the window if its size is greater than p's length\n",
    "        if right - left + 1 > len(p):\n",
    "            window_freq[ord(s[left]) - ord('a')] -= 1\n",
    "            left += 1\n",
    "\n",
    "        if window_freq == p_freq:\n",
    "            result.append(left)\n",
    "\n",
    "        right += 1\n",
    "\n",
    "    return result\n",
    "s = \"cbaebabacd\"\n",
    "p = \"abc\"\n",
    "result = findAnagrams(s, p)\n",
    "print(result) "
   ]
  },
  {
   "cell_type": "code",
   "execution_count": 7,
   "id": "95755d9a-55ef-48a8-8d1e-04626825a207",
   "metadata": {},
   "outputs": [
    {
     "name": "stdout",
     "output_type": "stream",
     "text": [
      "cbcbaaa\n"
     ]
    }
   ],
   "source": [
    "#Q7\n",
    "def decodeString(s):\n",
    "    stack = []\n",
    "    current_num = 0\n",
    "    current_str = ''\n",
    "\n",
    "    for ch in s:\n",
    "        if ch.isdigit():\n",
    "            current_num = current_num * 10 + int(ch)\n",
    "        elif ch == '[':\n",
    "            stack.append(current_str)\n",
    "            stack.append(current_num)\n",
    "            current_num = 0\n",
    "            current_str = ''\n",
    "        elif ch == ']':\n",
    "            num = stack.pop()\n",
    "            prev_str = stack.pop()\n",
    "            current_str = prev_str + num * current_str\n",
    "        else:\n",
    "            current_str += ch\n",
    "\n",
    "    return ''.join(reversed(current_str))\n",
    "\n",
    "\n",
    "\n",
    "s = \"3[a]2[bc]\"\n",
    "decoded_string = decodeString(s)\n",
    "print(decoded_string)  "
   ]
  },
  {
   "cell_type": "code",
   "execution_count": null,
   "id": "63494689-b916-4095-ba69-cd90bf3cbbad",
   "metadata": {},
   "outputs": [],
   "source": []
  }
 ],
 "metadata": {
  "kernelspec": {
   "display_name": "Python 3 (ipykernel)",
   "language": "python",
   "name": "python3"
  },
  "language_info": {
   "codemirror_mode": {
    "name": "ipython",
    "version": 3
   },
   "file_extension": ".py",
   "mimetype": "text/x-python",
   "name": "python",
   "nbconvert_exporter": "python",
   "pygments_lexer": "ipython3",
   "version": "3.10.6"
  }
 },
 "nbformat": 4,
 "nbformat_minor": 5
}

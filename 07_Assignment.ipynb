{
 "cells": [
  {
   "cell_type": "code",
   "execution_count": 3,
   "id": "1e566b40-6fba-4349-86d2-6d38152296ce",
   "metadata": {},
   "outputs": [
    {
     "name": "stdout",
     "output_type": "stream",
     "text": [
      "True\n"
     ]
    }
   ],
   "source": [
    "#Q1\n",
    "def Isomorphic(s: str, t: str) -> bool:\n",
    "    if len(s) != len(t):\n",
    "        return False\n",
    "\n",
    "    s_to_t = {}\n",
    "    t_to_s = {}\n",
    "\n",
    "    for s_char, t_char in zip(s, t):\n",
    "        if s_char not in s_to_t and t_char not in t_to_s:\n",
    "            s_to_t[s_char] = t_char\n",
    "            t_to_s[t_char] = s_char\n",
    "        elif s_char in s_to_t and s_to_t[s_char] != t_char:\n",
    "            return False\n",
    "        elif t_char in t_to_s and t_to_s[t_char] != s_char:\n",
    "            return False\n",
    "\n",
    "    return True\n",
    "s = \"egg\"\n",
    "t = \"add\"\n",
    "print(Isomorphic(s, t)) \n"
   ]
  },
  {
   "cell_type": "code",
   "execution_count": 4,
   "id": "a3d3367f-a3c4-4d08-94df-2a71a6df9e6e",
   "metadata": {},
   "outputs": [
    {
     "name": "stdout",
     "output_type": "stream",
     "text": [
      "True\n"
     ]
    }
   ],
   "source": [
    "#Q2\n",
    "def Strobogrammatic(num: str) -> bool:\n",
    "    left, right = 0, len(num) - 1\n",
    "    while left <= right:\n",
    "        if num[left] == num[right]:\n",
    "            if num[left] not in {'0', '1', '8'}:\n",
    "                return False\n",
    "        else:\n",
    "            if (num[left] != '6' or num[right] != '9') and (num[left] != '9' or num[right] != '6'):\n",
    "                return False\n",
    "        left += 1\n",
    "        right -= 1\n",
    "    return True\n",
    "num = \"69\"\n",
    "print(Strobogrammatic(num))\n"
   ]
  },
  {
   "cell_type": "code",
   "execution_count": 5,
   "id": "5f57b561-9efc-44a3-aab1-f1e2c09311a9",
   "metadata": {},
   "outputs": [
    {
     "name": "stdout",
     "output_type": "stream",
     "text": [
      "134\n"
     ]
    }
   ],
   "source": [
    "#Q3\n",
    "def addStrings(num1: str, num2: str) -> str:\n",
    "    result = ''\n",
    "    i, j = len(num1) - 1, len(num2) - 1\n",
    "    carry = 0\n",
    "\n",
    "    while i >= 0 or j >= 0:\n",
    "        digit1 = int(num1[i]) if i >= 0 else 0\n",
    "        digit2 = int(num2[j]) if j >= 0 else 0\n",
    "\n",
    "        _sum = digit1 + digit2 + carry\n",
    "        result += str(_sum % 10)\n",
    "        carry = _sum // 10\n",
    "\n",
    "        i -= 1\n",
    "        j -= 1\n",
    "\n",
    "    if carry > 0:\n",
    "        result += str(carry)\n",
    "\n",
    "    return result[::-1]\n",
    "num1 = \"11\"\n",
    "num2 = \"123\"\n",
    "print(addStrings(num1, num2)) "
   ]
  },
  {
   "cell_type": "code",
   "execution_count": 6,
   "id": "fc469350-1df4-4537-b480-ab424bfec6a8",
   "metadata": {},
   "outputs": [
    {
     "name": "stdout",
     "output_type": "stream",
     "text": [
      "s'teL ekat edoCteeL tsetnoc\n"
     ]
    }
   ],
   "source": [
    "#Q4\n",
    "def reverseWords(s: str) -> str:\n",
    "    words = s.split()\n",
    "    reversed_words = []\n",
    "    \n",
    "    for word in words:\n",
    "        reversed_word = word[::-1]\n",
    "        reversed_words.append(reversed_word)\n",
    "    \n",
    "    reversed_sentence = ' '.join(reversed_words)\n",
    "    return reversed_sentence\n",
    "s = \"Let's take LeetCode contest\"\n",
    "print(reverseWords(s)) "
   ]
  },
  {
   "cell_type": "code",
   "execution_count": 7,
   "id": "d546964a-61eb-48fe-bffa-5f18287b413c",
   "metadata": {},
   "outputs": [
    {
     "name": "stdout",
     "output_type": "stream",
     "text": [
      "bacdfeg\n"
     ]
    }
   ],
   "source": [
    "#Q5\n",
    "def reverseStr(s: str, k: int) -> str:\n",
    "    result = []\n",
    "\n",
    "    for i in range(0, len(s), 2 * k):\n",
    "        chunk = s[i:i + 2 * k]\n",
    "        reversed_chunk = chunk[:k][::-1] + chunk[k:]\n",
    "        result.append(reversed_chunk)\n",
    "\n",
    "    return ''.join(result)\n",
    "s = \"abcdefg\"\n",
    "k = 2\n",
    "print(reverseStr(s, k))  \n"
   ]
  },
  {
   "cell_type": "code",
   "execution_count": 9,
   "id": "a5a57064-ae7c-466b-a7ea-962e963386e6",
   "metadata": {},
   "outputs": [
    {
     "name": "stdout",
     "output_type": "stream",
     "text": [
      "True\n"
     ]
    }
   ],
   "source": [
    "#Q6\n",
    "def rotateString(s: str, goal: str) :\n",
    "    if len(s) != len(goal):\n",
    "        return False\n",
    "\n",
    "    s_concat = s + s\n",
    "    if goal in s_concat:\n",
    "        return True\n",
    "    else:\n",
    "        return False\n",
    "s = \"abcde\"\n",
    "goal = \"cdeab\"\n",
    "print(rotateString(s, goal))  \n",
    "\n"
   ]
  },
  {
   "cell_type": "code",
   "execution_count": 10,
   "id": "c2c2cc87-ca41-4760-8abe-2254cc1bf277",
   "metadata": {},
   "outputs": [
    {
     "name": "stdout",
     "output_type": "stream",
     "text": [
      "True\n"
     ]
    }
   ],
   "source": [
    "#Q7\n",
    "def backspaceCompare(s: str, t: str) -> bool:\n",
    "    def processString(string: str) -> list:\n",
    "        stack = []\n",
    "        for ch in string:\n",
    "            if ch != '#':\n",
    "                stack.append(ch)\n",
    "            elif stack:\n",
    "                stack.pop()\n",
    "        return stack\n",
    "\n",
    "    s_stack = processString(s)\n",
    "    t_stack = processString(t)\n",
    "\n",
    "    return s_stack == t_stack\n",
    "s = \"ab#c\"\n",
    "t = \"ad#c\"\n",
    "print(backspaceCompare(s, t))  \n"
   ]
  },
  {
   "cell_type": "code",
   "execution_count": null,
   "id": "c25fba3d-e7dd-4732-bf64-5ea7c631e21b",
   "metadata": {},
   "outputs": [],
   "source": [
    "def checkStraightLine(coordinates):\n",
    "    x1, y1 = coordinates[0]\n",
    "    x2, y2 = coordinates[1]\n",
    "\n",
    "    slope = float('inf') if x2 - x1 == 0 else (y2 - y1) / (x2 - x1)\n",
    "\n",
    "    for i in range(2, len(coordinates)):\n",
    "        x, y = coordinates[i]\n",
    "        x_prev, y_prev = coordinates[i - 1]\n",
    "\n",
    "        curr_slope = float('inf') if x - x_prev == 0 else (y - y_prev) / (x - x_prev)\n",
    "\n",
    "        if slope != curr_slope:\n",
    "            return False\n",
    "\n",
    "    return True\n",
    "coordinates = [[1, 2], [2, 3], [3, 4], [4, 5], [5, 6], [6, 7]]\n",
    "print(checkStraightLine(coordinates))  # Output: True\n"
   ]
  },
  {
   "cell_type": "code",
   "execution_count": null,
   "id": "ae4775bb-0972-4abb-8743-09ada086822a",
   "metadata": {},
   "outputs": [],
   "source": []
  },
  {
   "cell_type": "code",
   "execution_count": null,
   "id": "a5656b32-6c39-4ecb-a754-fbfdd48e59e2",
   "metadata": {},
   "outputs": [],
   "source": []
  },
  {
   "cell_type": "code",
   "execution_count": null,
   "id": "e9308dfa-6159-42ef-b752-394fe2387e0c",
   "metadata": {},
   "outputs": [],
   "source": []
  }
 ],
 "metadata": {
  "kernelspec": {
   "display_name": "Python 3 (ipykernel)",
   "language": "python",
   "name": "python3"
  },
  "language_info": {
   "codemirror_mode": {
    "name": "ipython",
    "version": 3
   },
   "file_extension": ".py",
   "mimetype": "text/x-python",
   "name": "python",
   "nbconvert_exporter": "python",
   "pygments_lexer": "ipython3",
   "version": "3.10.6"
  }
 },
 "nbformat": 4,
 "nbformat_minor": 5
}

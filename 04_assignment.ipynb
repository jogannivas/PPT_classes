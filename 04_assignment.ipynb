{
 "cells": [
  {
   "cell_type": "code",
   "execution_count": 5,
   "id": "4926ccd8-bc1f-4428-adea-90ec28b4155a",
   "metadata": {},
   "outputs": [
    {
     "name": "stdout",
     "output_type": "stream",
     "text": [
      "[1, 5]\n"
     ]
    }
   ],
   "source": [
    "def common(arr1, arr2, arr3):\n",
    "    a1 = a2 = a3 = 0\n",
    "    result = []\n",
    "    \n",
    "    while a1 < len(arr1) and a2 < len(arr2) and a3 < len(arr3):\n",
    "        if arr1[a1] == arr2[a2] == arr3[a3]:\n",
    "            result.append(arr1[a1])\n",
    "            a1 += 1\n",
    "            a2 += 1\n",
    "            a3 += 1\n",
    "        else:\n",
    "            min_val = min(arr1[a1], arr2[a2], arr3[a3])\n",
    "            if arr1[a1] == min_val:\n",
    "                a1 += 1\n",
    "            elif arr2[a2] == min_val:\n",
    "                a2 += 1\n",
    "            else:\n",
    "                a3 += 1\n",
    "    \n",
    "    return result\n",
    "arr1 = [1,2,3,4,5]\n",
    "arr2 = [1,2,5,7,9]\n",
    "arr3 = [1,3,4,5,8]\n",
    "\n",
    "result = common(arr1, arr2, arr3)\n",
    "print(result) \n"
   ]
  },
  {
   "cell_type": "code",
   "execution_count": 9,
   "id": "e4b33d44-36ee-4274-9da9-da6c46a7be58",
   "metadata": {},
   "outputs": [
    {
     "name": "stdout",
     "output_type": "stream",
     "text": [
      "[[1, 3], [4, 6]]\n"
     ]
    }
   ],
   "source": [
    "def disjoint(nums1, nums2):\n",
    "    set1 = set(nums1)\n",
    "    set2 = set(nums2)\n",
    "    \n",
    "    nums1 = list(set1 - set2)\n",
    "    nums2 = list(set2 - set1)\n",
    "    \n",
    "    return [nums1, nums2]\n",
    "nums11 = [1,2,3]\n",
    "nums22 = [2,4,6]\n",
    "\n",
    "result =disjoint(nums11, nums22)\n",
    "print(result) \n"
   ]
  },
  {
   "cell_type": "code",
   "execution_count": 10,
   "id": "9d8adc13-ee99-49a5-afbc-a81f1d045d55",
   "metadata": {},
   "outputs": [
    {
     "name": "stdout",
     "output_type": "stream",
     "text": [
      "[[1, 4, 7], [2, 5, 8], [3, 6, 9]]\n"
     ]
    }
   ],
   "source": [
    "def transpose(matrix):\n",
    "    rows = len(matrix)\n",
    "    cols = len(matrix[0])\n",
    "    \n",
    "    transpose = [[0 for _ in range(rows)] for _ in range(cols)]\n",
    "    \n",
    "    for i in range(rows):\n",
    "        for j in range(cols):\n",
    "            transpose[j][i] = matrix[i][j]\n",
    "    \n",
    "    return transpose\n",
    "matrix = [[1,2,3],[4,5,6],[7,8,9]]\n",
    "\n",
    "result = transpose(matrix)\n",
    "print(result) \n"
   ]
  },
  {
   "cell_type": "code",
   "execution_count": 12,
   "id": "e6095464-ced8-4b89-b16d-e0d57b1ef661",
   "metadata": {},
   "outputs": [
    {
     "name": "stdout",
     "output_type": "stream",
     "text": [
      "4\n"
     ]
    }
   ],
   "source": [
    "def summation(nums):\n",
    "    nums.sort()\n",
    "    max_sum = 0\n",
    "    \n",
    "    for i in range(0, len(nums), 2):\n",
    "        max_sum += nums[i]\n",
    "    \n",
    "    return max_sum\n",
    "nums = [1, 4, 3, 2]\n",
    "\n",
    "result = summation(nums)\n",
    "print(result) "
   ]
  },
  {
   "cell_type": "code",
   "execution_count": 13,
   "id": "705ea3ae-afd5-4fab-bb19-02a5822eba0c",
   "metadata": {},
   "outputs": [
    {
     "name": "stdout",
     "output_type": "stream",
     "text": [
      "2\n"
     ]
    }
   ],
   "source": [
    "def set_coins(n):\n",
    "    complete_rows = 0\n",
    "    coins_needed = 0\n",
    "    i = 1\n",
    "    \n",
    "    while coins_needed <= n:\n",
    "        complete_rows += 1\n",
    "        coins_needed += i\n",
    "        i += 1\n",
    "    \n",
    "    return complete_rows - 1\n",
    "n = 5\n",
    "\n",
    "result = set_coins(n)\n",
    "print(result) \n"
   ]
  },
  {
   "cell_type": "code",
   "execution_count": 15,
   "id": "31d7b69c-85fe-4f0a-8814-e9ad3a74013e",
   "metadata": {},
   "outputs": [
    {
     "name": "stdout",
     "output_type": "stream",
     "text": [
      "[0, 1, 9, 16, 100]\n"
     ]
    }
   ],
   "source": [
    "def arrange_array(nums):\n",
    "    squared_nums = []\n",
    "    \n",
    "    for num in nums:\n",
    "        squared_nums.append(num * num)\n",
    "    \n",
    "    squared_nums.sort()\n",
    "    \n",
    "    return squared_nums\n",
    "nums = [-4, -1, 0, 3, 10]\n",
    "\n",
    "result = arrange_array(nums)\n",
    "print(result) "
   ]
  },
  {
   "cell_type": "code",
   "execution_count": 16,
   "id": "0f517b13-814f-470a-82f2-01c37bc719db",
   "metadata": {},
   "outputs": [
    {
     "name": "stdout",
     "output_type": "stream",
     "text": [
      "4\n"
     ]
    }
   ],
   "source": [
    "def count(m, n, ops):\n",
    "    min_row = m\n",
    "    min_col = n\n",
    "    \n",
    "    for op in ops:\n",
    "        ai, bi = op\n",
    "        min_row = min(min_row, ai)\n",
    "        min_col = min(min_col, bi)\n",
    "    \n",
    "    max_integers = min_row * min_col\n",
    "    \n",
    "    return max_integers\n",
    "m = 3\n",
    "n = 3\n",
    "ops = [[2, 2], [3, 3]]\n",
    "\n",
    "result = count(m, n, ops)\n",
    "print(result)  "
   ]
  },
  {
   "cell_type": "code",
   "execution_count": 17,
   "id": "0900366c-8d05-4640-8b56-f827f1916153",
   "metadata": {},
   "outputs": [
    {
     "name": "stdout",
     "output_type": "stream",
     "text": [
      "[2, 3, 5, 4, 1, 7]\n"
     ]
    }
   ],
   "source": [
    "def shuffle(nums, n):\n",
    "    nums1 = nums[:n]\n",
    "    nums2 = nums[n:]\n",
    "    \n",
    "    result = []\n",
    "    \n",
    "    for i in range(n):\n",
    "        result.append(nums1[i])\n",
    "        result.append(nums2[i])\n",
    "    \n",
    "    return result\n",
    "nums = [2, 5, 1, 3, 4, 7]\n",
    "n = 3\n",
    "\n",
    "result = shuffle(nums, n)\n",
    "print(result)  "
   ]
  },
  {
   "cell_type": "code",
   "execution_count": null,
   "id": "9f0896d4-7997-454d-afcf-3c3af2e0a0d1",
   "metadata": {},
   "outputs": [],
   "source": []
  }
 ],
 "metadata": {
  "kernelspec": {
   "display_name": "Python 3 (ipykernel)",
   "language": "python",
   "name": "python3"
  },
  "language_info": {
   "codemirror_mode": {
    "name": "ipython",
    "version": 3
   },
   "file_extension": ".py",
   "mimetype": "text/x-python",
   "name": "python",
   "nbconvert_exporter": "python",
   "pygments_lexer": "ipython3",
   "version": "3.10.6"
  }
 },
 "nbformat": 4,
 "nbformat_minor": 5
}

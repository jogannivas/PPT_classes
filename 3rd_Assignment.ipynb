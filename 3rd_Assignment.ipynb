{
 "cells": [
  {
   "cell_type": "code",
   "execution_count": 13,
   "id": "db34148d-63d2-4bbc-a4e9-28659e6eb833",
   "metadata": {},
   "outputs": [
    {
     "name": "stdout",
     "output_type": "stream",
     "text": [
      "2\n"
     ]
    }
   ],
   "source": [
    "#Q1\n",
    "def function(nums, target):\n",
    "    nums.sort() \n",
    "    Nearest = float('inf') \n",
    "    \n",
    "    for i in range(len(nums) - 2):\n",
    "        left = i + 1\n",
    "        right = len(nums) - 1\n",
    "        \n",
    "        while left < right:\n",
    "            Nearest = nums[i] + nums[left] + nums[right]\n",
    "            \n",
    "            if Nearest == target:\n",
    "                return Nearest\n",
    "            \n",
    "            if abs(Nearest - target) < abs(Nearest - target):\n",
    "                Nearest = Nearest\n",
    "                \n",
    "            if Nearest < target:\n",
    "                left += 1\n",
    "            else:\n",
    "                right -= 1\n",
    "    \n",
    "    return Nearest\n",
    "nums = [-1,2,1,-4]\n",
    "nums1=[5,4,8,1,0,47,9,6]\n",
    "target = 1\n",
    "\n",
    "result = function(nums, target)\n",
    "print(result)  \n"
   ]
  },
  {
   "cell_type": "code",
   "execution_count": 14,
   "id": "759ef660-46ee-4051-a363-1bc6d71ac614",
   "metadata": {},
   "outputs": [
    {
     "name": "stdout",
     "output_type": "stream",
     "text": [
      "[[-2, -1, 1, 2], [-2, 0, 0, 2], [-1, 0, 0, 1]]\n"
     ]
    }
   ],
   "source": [
    "#Q2\n",
    "def fourSum(nums, target):\n",
    "    nums.sort()  \n",
    "    result = []\n",
    "    n = len(nums)\n",
    "    \n",
    "    for a in range(n - 3):\n",
    "        if a > 0 and nums[a] == nums[a-1]:\n",
    "            continue\n",
    "        \n",
    "        for b in range(a + 1, n - 2):\n",
    "            if b > a + 1 and nums[b] == nums[b-1]:\n",
    "                continue\n",
    "            \n",
    "            left = b + 1\n",
    "            right = n - 1\n",
    "            \n",
    "            while left < right:\n",
    "                currentSum = nums[a] + nums[b] + nums[left] + nums[right]\n",
    "                \n",
    "                if currentSum == target:\n",
    "                    result.append([nums[a], nums[b], nums[left], nums[right]])\n",
    "                    \n",
    "                    while left < right and nums[left] == nums[left + 1]:\n",
    "                        left += 1\n",
    "                    while left < right and nums[right] == nums[right - 1]:\n",
    "                        right -= 1\n",
    "                    \n",
    "                    left += 1\n",
    "                    right -= 1\n",
    "                \n",
    "                elif currentSum < target:\n",
    "                    left += 1\n",
    "                else:\n",
    "                    right -= 1\n",
    "    \n",
    "    return result\n",
    "nums = [1,0,-1,0,-2,2]\n",
    "target = 0\n",
    "\n",
    "result = fourSum(nums, target)\n",
    "print(result)\n",
    "\n"
   ]
  },
  {
   "cell_type": "code",
   "execution_count": 16,
   "id": "aa4dc41f-667d-42af-8e9e-ebb359f523db",
   "metadata": {},
   "outputs": [
    {
     "name": "stdout",
     "output_type": "stream",
     "text": [
      "[1, 3, 2]\n"
     ]
    }
   ],
   "source": [
    "#Q3\n",
    "def nu(nums):\n",
    "    n = len(nums)\n",
    "    i = n - 2\n",
    "    \n",
    "    \n",
    "    while i >= 0 and nums[i] >= nums[i + 1]:\n",
    "        i -= 1\n",
    "    \n",
    "    if i >= 0:\n",
    "        j = n - 1\n",
    "       \n",
    "        while j >= 0 and nums[i] >= nums[j]:\n",
    "            j -= 1\n",
    "        nums[i], nums[j] = nums[j], nums[i]\n",
    "    \n",
    "  \n",
    "    left = i + 1\n",
    "    right = n - 1\n",
    "    while left < right:\n",
    "        nums[left], nums[right] = nums[right], nums[left]\n",
    "        left += 1\n",
    "        right -= 1\n",
    "\n",
    "\n",
    "nums = [1, 2, 3]\n",
    "nu(nums)\n",
    "print(nums)  \n",
    "\n"
   ]
  },
  {
   "cell_type": "code",
   "execution_count": 17,
   "id": "ac38854c-c600-40f0-ae57-439148b594c1",
   "metadata": {},
   "outputs": [
    {
     "name": "stdout",
     "output_type": "stream",
     "text": [
      "2\n"
     ]
    }
   ],
   "source": [
    "#Q4\n",
    "def searching(nums, target):\n",
    "    left = 0\n",
    "    right = len(nums) - 1\n",
    "    \n",
    "    while left <= right:\n",
    "        mid = left + (right - left) // 2\n",
    "        \n",
    "        if nums[mid] == target:\n",
    "            return mid\n",
    "        elif nums[mid] < target:\n",
    "            left = mid + 1\n",
    "        else:\n",
    "            right = mid - 1\n",
    "    \n",
    "    return left\n",
    "nums = [1, 3, 5, 6]\n",
    "target = 5\n",
    "\n",
    "index = searching(nums, target)\n",
    "print(index) \n"
   ]
  },
  {
   "cell_type": "code",
   "execution_count": 22,
   "id": "8295faae-fb65-437d-b30d-82599dca3825",
   "metadata": {},
   "outputs": [
    {
     "name": "stdout",
     "output_type": "stream",
     "text": [
      "[1, 2, 4]\n"
     ]
    }
   ],
   "source": [
    "#Q5\n",
    "def function(array_digits):\n",
    "    n = len(array_digits)\n",
    "    carry = 1\n",
    "    \n",
    "    for i in range(n - 1, -1, -1):\n",
    "        array_digits[i] += carry\n",
    "        carry = array_digits[i] // 10\n",
    "        array_digits[i] %= 10\n",
    "        \n",
    "        if carry == 0:\n",
    "            break\n",
    "    \n",
    "    if carry != 0:\n",
    "        array_digits.insert(0, carry)\n",
    "    \n",
    "    return array_digits\n",
    "array_digits = [1, 2, 3]\n",
    "result = function(array_digits)\n",
    "print(result)  \n"
   ]
  },
  {
   "cell_type": "code",
   "execution_count": 4,
   "id": "f18bd98a-bc0b-4e49-98d0-fcd6c86ea30f",
   "metadata": {},
   "outputs": [
    {
     "name": "stdout",
     "output_type": "stream",
     "text": [
      "1\n"
     ]
    }
   ],
   "source": [
    "#Q6\n",
    "def num(nums):\n",
    "    result = 0\n",
    "    for num in nums:\n",
    "        result ^= num\n",
    "    return result\n",
    "nums = [2, 2, 1]\n",
    "result = num(nums)\n",
    "print(result)  \n"
   ]
  },
  {
   "cell_type": "code",
   "execution_count": 10,
   "id": "6ddf343f-bbda-4d02-893c-9e221c9e4bdb",
   "metadata": {},
   "outputs": [
    {
     "name": "stdout",
     "output_type": "stream",
     "text": [
      "['2', '4 to 49', '51 to 74', '76 to 99']\n"
     ]
    }
   ],
   "source": [
    "#Q7\n",
    "def missing_values(nums, lower, upper):\n",
    "    result = []\n",
    "    start = lower\n",
    "    \n",
    "    for num in nums:\n",
    "        if num == start:\n",
    "            start += 1\n",
    "        elif num > start:\n",
    "            result.append(getRange(start, num - 1))\n",
    "            start = num + 1\n",
    "    \n",
    "    if start <= upper:\n",
    "        result.append(getRange(start, upper))\n",
    "    \n",
    "    return result\n",
    "\n",
    "def getRange(start, end):\n",
    "    if start == end:\n",
    "        return str(start)\n",
    "    else:\n",
    "        return str(start) +\" to \" + str(end)\n",
    "nums = [0,1,3,50,75]\n",
    "lower = 0\n",
    "upper = 99\n",
    "result = missing_values(nums, lower, upper)\n",
    "print(result)"
   ]
  },
  {
   "cell_type": "code",
   "execution_count": null,
   "id": "3504132e-668d-4891-b488-fb513a9c0076",
   "metadata": {},
   "outputs": [],
   "source": [
    "#Q8\n",
    "def canAttendMeetings(intervals):\n",
    "    intervals.sort(key=lambda x: x[0])  # Sort intervals based on start time\n",
    "\n",
    "    for i in range(1, len(intervals)):\n",
    "        if intervals[i][0] < intervals[i-1][1]:\n",
    "            return False\n",
    "    \n",
    "    return True\n"
   ]
  }
 ],
 "metadata": {
  "kernelspec": {
   "display_name": "Python 3 (ipykernel)",
   "language": "python",
   "name": "python3"
  },
  "language_info": {
   "codemirror_mode": {
    "name": "ipython",
    "version": 3
   },
   "file_extension": ".py",
   "mimetype": "text/x-python",
   "name": "python",
   "nbconvert_exporter": "python",
   "pygments_lexer": "ipython3",
   "version": "3.10.6"
  }
 },
 "nbformat": 4,
 "nbformat_minor": 5
}

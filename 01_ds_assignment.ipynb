{
 "cells": [
  {
   "cell_type": "code",
   "execution_count": 5,
   "id": "5cd27e3d-1e7f-457e-bc7c-aa319ae16321",
   "metadata": {},
   "outputs": [
    {
     "data": {
      "text/plain": [
       "'devlos_ti'"
      ]
     },
     "execution_count": 5,
     "metadata": {},
     "output_type": "execute_result"
    }
   ],
   "source": [
    "#Q1\n",
    "def reverse(ips):\n",
    "    reversed_str = \"\"\n",
    "    for i in range(len(ips) - 1, -1, -1):\n",
    "        reversed_str += ips[i]\n",
    "    return reversed_str\n",
    "\n",
    "ips=\"it_solved\"\n",
    "reverse(ips)"
   ]
  },
  {
   "cell_type": "code",
   "execution_count": 7,
   "id": "a8f33d16-e402-471f-bb06-2db49f0458b6",
   "metadata": {},
   "outputs": [
    {
     "name": "stdout",
     "output_type": "stream",
     "text": [
      "vaskaraksav is a palindrome.\n"
     ]
    }
   ],
   "source": [
    "#Q2\n",
    "def palindrome(input_str):\n",
    "    cleaned_str = ''.join(c.lower() for c in input_str if c.isalnum())\n",
    "    reversed_str = cleaned_str[::-1] \n",
    "    return cleaned_str == reversed_str\n",
    "\n",
    "\n",
    "string = \"vaskaraksav\"\n",
    "if palindrome(string):\n",
    "    print(f\"{string} is a palindrome.\")\n",
    "else:\n",
    "    print(f\"{string} is not a palindrome.\")\n"
   ]
  },
  {
   "cell_type": "code",
   "execution_count": 12,
   "id": "35c5da49-d182-4223-92bd-cdc9d4704d35",
   "metadata": {},
   "outputs": [
    {
     "name": "stdout",
     "output_type": "stream",
     "text": [
      "The largest number is: 20\n"
     ]
    }
   ],
   "source": [
    "\n",
    "#Q3\n",
    "def find_largest_element(first):\n",
    "    if not first: \n",
    "        return None\n",
    "\n",
    "    largest = first[0]  \n",
    "\n",
    "    for num in first:\n",
    "        if num > largest:\n",
    "            largest = num\n",
    "\n",
    "    return largest\n",
    "\n",
    "numbers = [3, 8, 2, 10,20, 5]\n",
    "largest_num = find_largest_element(numbers)\n",
    "print(\"The largest number is:\", largest_num)\n"
   ]
  },
  {
   "cell_type": "code",
   "execution_count": 13,
   "id": "83f34215-89b8-4b41-a866-bb96464939a9",
   "metadata": {},
   "outputs": [
    {
     "name": "stdout",
     "output_type": "stream",
     "text": [
      "The element 1 occurs 1 times.\n",
      "The element 2 occurs 2 times.\n",
      "The element 3 occurs 3 times.\n",
      "The element 4 occurs 4 times.\n"
     ]
    }
   ],
   "source": [
    "#Q4\n",
    "def count_elements(lst):\n",
    "    count_dict = {}  \n",
    "    for element in lst:\n",
    "        if element in count_dict:\n",
    "            count_dict[element] += 1\n",
    "        else:\n",
    "            count_dict[element] = 1\n",
    "\n",
    "    return count_dict\n",
    "\n",
    "numbers = [1, 2, 2, 3, 3, 3, 4, 4, 4, 4]\n",
    "element_count = count_elements(numbers)\n",
    "for element, count in element_count.items():\n",
    "    print(f\"The element {element} occurs {count} times.\")\n"
   ]
  },
  {
   "cell_type": "code",
   "execution_count": 14,
   "id": "a13b7c82-67e8-49f1-84bb-2eead50b45eb",
   "metadata": {},
   "outputs": [
    {
     "name": "stdout",
     "output_type": "stream",
     "text": [
      "The second largest number in the list is: 10\n"
     ]
    }
   ],
   "source": [
    "#Q5\n",
    "def find_second_largest(numbers):\n",
    "    if len(numbers) < 2:\n",
    "        return None\n",
    "\n",
    "    largest = float('-inf')\n",
    "    second_largest = float('-inf')\n",
    "\n",
    "    for num in numbers:\n",
    "        if num > largest:\n",
    "            second_largest = largest\n",
    "            largest = num\n",
    "        elif num > second_largest and num != largest:\n",
    "            second_largest = num\n",
    "\n",
    "    return second_largest\n",
    "\n",
    "\n",
    "number_list = [5, 8, 2, 10, 3,6,8,9,12]\n",
    "second_largest_num = find_second_largest(number_list)\n",
    "\n",
    "if second_largest_num is None:\n",
    "    print(\"The list does not have a second largest number.\")\n",
    "else:\n",
    "    print(\"The second largest number in the list is:\", second_largest_num)\n"
   ]
  },
  {
   "cell_type": "code",
   "execution_count": 15,
   "id": "9ec55664-ab49-46e4-bc4f-52336fe60b58",
   "metadata": {},
   "outputs": [
    {
     "name": "stdout",
     "output_type": "stream",
     "text": [
      "List with duplicates removed: [1, 2, 3, 4, 5]\n"
     ]
    }
   ],
   "source": [
    "#Q6\n",
    "def remove_duplicates(lst):\n",
    "    return list(set(lst))\n",
    "\n",
    "\n",
    "numbers = [1, 2, 2, 3, 3, 4, 5, 5]\n",
    "unique_numbers = remove_duplicates(numbers)\n",
    "print(\"List with duplicates removed:\", unique_numbers)\n"
   ]
  },
  {
   "cell_type": "code",
   "execution_count": 16,
   "id": "fe07fab7-6c7e-42e7-a990-9a56677857b1",
   "metadata": {},
   "outputs": [
    {
     "name": "stdout",
     "output_type": "stream",
     "text": [
      "The factorial of 5 is: 120\n"
     ]
    }
   ],
   "source": [
    "#Q7\n",
    "def factorial(n):\n",
    "    if n == 0 or n == 1:\n",
    "        return 1\n",
    "    else:\n",
    "        return n * factorial(n - 1)\n",
    "\n",
    "\n",
    "number = 5\n",
    "result = factorial(number)\n",
    "print(f\"The factorial of {number} is: {result}\")\n"
   ]
  },
  {
   "cell_type": "code",
   "execution_count": 17,
   "id": "a95eeadf-fe07-4dc4-a66e-84676aa6d505",
   "metadata": {},
   "outputs": [
    {
     "name": "stdout",
     "output_type": "stream",
     "text": [
      "17 is a prime number.\n"
     ]
    }
   ],
   "source": [
    "#Q8\n",
    "def is_prime(number):\n",
    "    if number <= 1:\n",
    "        return False\n",
    "\n",
    "    for i in range(2, int(number**0.5) + 1):\n",
    "        if number % i == 0:\n",
    "            return False\n",
    "\n",
    "    return True\n",
    "\n",
    "\n",
    "num = 17\n",
    "if is_prime(num):\n",
    "    print(f\"{num} is a prime number.\")\n",
    "else:\n",
    "    print(f\"{num} is not a prime number.\")\n"
   ]
  },
  {
   "cell_type": "code",
   "execution_count": 19,
   "id": "78540cfb-a33d-43b3-ac6a-a165f45eebb8",
   "metadata": {},
   "outputs": [
    {
     "name": "stdout",
     "output_type": "stream",
     "text": [
      "Sorted list: [1, 2, 3, 3, 5, 8, 45, 56]\n"
     ]
    }
   ],
   "source": [
    "#Q9\n",
    "def sort_list(lst):\n",
    "    lst.sort()\n",
    "    return lst\n",
    "\n",
    "numbers = [5, 2, 8, 1, 3,45,3,56]\n",
    "sorted_numbers = sort_list(numbers)\n",
    "print(\"Sorted list:\", sorted_numbers)\n"
   ]
  },
  {
   "cell_type": "code",
   "execution_count": 21,
   "id": "ae0498c0-8eb0-40f5-a711-1be4bbf4d14a",
   "metadata": {},
   "outputs": [
    {
     "name": "stdout",
     "output_type": "stream",
     "text": [
      "The sum of the numbers in the list is: 138\n"
     ]
    }
   ],
   "source": [
    "#Q10\n",
    "def find_sum(numbers):\n",
    "    sum = 0\n",
    "    for num in numbers:\n",
    "        sum += num\n",
    "    return sum\n",
    "number_list = [1, 2, 3, 4, 5,45,78]\n",
    "total_sum = find_sum(number_list)\n",
    "print(\"The sum of the numbers in the list is:\", total_sum)\n"
   ]
  },
  {
   "cell_type": "code",
   "execution_count": 23,
   "id": "9f87ed8e-7cd0-44fb-a7d1-f5f122a9e5ab",
   "metadata": {},
   "outputs": [
    {
     "name": "stdout",
     "output_type": "stream",
     "text": [
      "Common elements: [4, 5, 12]\n"
     ]
    }
   ],
   "source": [
    "#Q11\n",
    "def find_common_elements(list1, list2):\n",
    "    common_elements = []\n",
    "    for element in list1:\n",
    "        if element in list2:\n",
    "            common_elements.append(element)\n",
    "    return common_elements\n",
    "\n",
    "list_a = [1, 2, 3, 4, 5,12,13]\n",
    "list_b = [4, 5, 6, 7, 8,12,15]\n",
    "common_elements = find_common_elements(list_a, list_b)\n",
    "print(\"Common elements:\", common_elements)\n"
   ]
  },
  {
   "cell_type": "code",
   "execution_count": 25,
   "id": "80125959-0e4e-4ae1-bf2f-651ed41b2e5e",
   "metadata": {},
   "outputs": [
    {
     "name": "stdout",
     "output_type": "stream",
     "text": [
      "listens and silents are anagrams.\n"
     ]
    }
   ],
   "source": [
    "#Q12\n",
    "def is_anagram(str1, str2):\n",
    "    str1 = str1.lower().replace(\" \", \"\")\n",
    "    str2 = str2.lower().replace(\" \", \"\")\n",
    "    \n",
    "    return sorted(str1) == sorted(str2)\n",
    "\n",
    "\n",
    "string1 = \"listens\"\n",
    "string2 = \"silents\"\n",
    "if is_anagram(string1, string2):\n",
    "    print(f\"{string1} and {string2} are anagrams.\")\n",
    "else:\n",
    "    print(f\"{string1} and {string2} are not anagrams.\")\n"
   ]
  },
  {
   "cell_type": "code",
   "execution_count": 28,
   "id": "40861464-2bd1-465b-8289-f3aa11e6fcfc",
   "metadata": {},
   "outputs": [
    {
     "name": "stdout",
     "output_type": "stream",
     "text": [
      "All permutations of the string: ['yoga', 'yoag', 'ygoa', 'ygao', 'yaog', 'yago', 'oyga', 'oyag', 'ogya', 'ogay', 'oayg', 'oagy', 'gyoa', 'gyao', 'goya', 'goay', 'gayo', 'gaoy', 'ayog', 'aygo', 'aoyg', 'aogy', 'agyo', 'agoy']\n"
     ]
    }
   ],
   "source": [
    "#Q13\n",
    "def generate_permutations(string):\n",
    "    if len(string) <= 1:\n",
    "        return [string]\n",
    "    \n",
    "    permutations = []\n",
    "    for i in range(len(string)):\n",
    "        char = string[i]\n",
    "        remaining_chars = string[:i] + string[i+1:]\n",
    "        for permutation in generate_permutations(remaining_chars):\n",
    "            permutations.append(char + permutation)\n",
    "    \n",
    "    return permutations\n",
    "\n",
    "# Example usage\n",
    "input_string = \"yoga\"\n",
    "permutations = generate_permutations(input_string)\n",
    "print(\"All permutations of the string:\", permutations)\n"
   ]
  },
  {
   "cell_type": "code",
   "execution_count": 29,
   "id": "7bfdead1-73b1-4e6a-8c38-7f6908fcf351",
   "metadata": {},
   "outputs": [
    {
     "name": "stdout",
     "output_type": "stream",
     "text": [
      "Fibonacci sequence: [0, 1, 1, 2, 3, 5, 8, 13, 21, 34, 55, 89]\n"
     ]
    }
   ],
   "source": [
    "#Q14\n",
    "def fibonacci(n):\n",
    "    sequence = [0, 1]  \n",
    "\n",
    "    if n <= 2:\n",
    "        return sequence[:n]\n",
    "\n",
    "    while len(sequence) < n:\n",
    "        next_number = sequence[-1] + sequence[-2]\n",
    "        sequence.append(next_number)\n",
    "\n",
    "    return sequence\n",
    "\n",
    "\n",
    "num_terms = 12\n",
    "fib_sequence = fibonacci(num_terms)\n",
    "print(\"Fibonacci sequence:\", fib_sequence)\n"
   ]
  },
  {
   "cell_type": "code",
   "execution_count": 30,
   "id": "624f07c7-40f9-420b-b292-7a5ea63980b0",
   "metadata": {},
   "outputs": [
    {
     "name": "stdout",
     "output_type": "stream",
     "text": [
      "The median of the numbers is: 6.5\n"
     ]
    }
   ],
   "source": [
    "#Q15\n",
    "def find_median(numbers):\n",
    "    numbers.sort() \n",
    "    length = len(numbers)\n",
    "    mid_index = length // 2\n",
    "\n",
    "    if length % 2 == 0:\n",
    "        \n",
    "        median = (numbers[mid_index - 1] + numbers[mid_index]) / 2\n",
    "    else:\n",
    "       \n",
    "        median = numbers[mid_index]\n",
    "\n",
    "    return median\n",
    "\n",
    "\n",
    "number_list = [5, 2, 8, 1, 3,45,54,12]\n",
    "median_value = find_median(number_list)\n",
    "print(\"The median of the numbers is:\", median_value)\n"
   ]
  },
  {
   "cell_type": "code",
   "execution_count": 31,
   "id": "37a5a7a2-58dc-4cd7-9548-a446be9b64a4",
   "metadata": {},
   "outputs": [
    {
     "name": "stdout",
     "output_type": "stream",
     "text": [
      "The list is sorted in non-decreasing order.\n"
     ]
    }
   ],
   "source": [
    "#Q16\n",
    "def is_sorted(numbers):\n",
    "    for i in range(len(numbers) - 1):\n",
    "        if numbers[i] > numbers[i + 1]:\n",
    "            return False\n",
    "    return True\n",
    "\n",
    "\n",
    "number_list = [1, 2, 3, 4, 5]\n",
    "if is_sorted(number_list):\n",
    "    print(\"The list is sorted in non-decreasing order.\")\n",
    "else:\n",
    "    print(\"The list is not sorted in non-decreasing order.\")\n"
   ]
  },
  {
   "cell_type": "code",
   "execution_count": 32,
   "id": "d8f00858-fdb1-4a4c-927f-5d18ed138550",
   "metadata": {},
   "outputs": [
    {
     "name": "stdout",
     "output_type": "stream",
     "text": [
      "Intersection: [8, 4, 5]\n"
     ]
    }
   ],
   "source": [
    "#Q17\n",
    "def find_intersection(list1, list2):\n",
    "    set1 = set(list1)\n",
    "    set2 = set(list2)\n",
    "    intersection = set1.intersection(set2)\n",
    "    return list(intersection)\n",
    "\n",
    "# Example usage\n",
    "list_a = [1, 2, 3, 4, 5,8,12]\n",
    "list_b = [4, 5, 6, 7, 8]\n",
    "intersection = find_intersection(list_a, list_b)\n",
    "print(\"Intersection:\", intersection)\n"
   ]
  },
  {
   "cell_type": "code",
   "execution_count": 33,
   "id": "cf1ef758-4c81-4fb9-bc86-1d3797832a6f",
   "metadata": {},
   "outputs": [
    {
     "name": "stdout",
     "output_type": "stream",
     "text": [
      "Maximum subarray sum: 6\n"
     ]
    }
   ],
   "source": [
    "#Q18\n",
    "def find_max_subarray_sum(nums):\n",
    "    max_sum = float('-inf')\n",
    "    current_sum = 0\n",
    "\n",
    "    for num in nums:\n",
    "        current_sum += num\n",
    "        if current_sum > max_sum:\n",
    "            max_sum = current_sum\n",
    "        if current_sum < 0:\n",
    "            current_sum = 0\n",
    "\n",
    "    return max_sum\n",
    "\n",
    "numbers = [-2, 1, -3, 4, -1, 2, 1, -5, 4]\n",
    "max_subarray_sum = find_max_subarray_sum(numbers)\n",
    "print(\"Maximum subarray sum:\", max_subarray_sum)\n"
   ]
  },
  {
   "cell_type": "code",
   "execution_count": 35,
   "id": "6d147bc8-c3fc-4a45-a378-3470bf7e2a8c",
   "metadata": {},
   "outputs": [
    {
     "name": "stdout",
     "output_type": "stream",
     "text": [
      "String without vowels:  jgnnvs\n"
     ]
    }
   ],
   "source": [
    "#Q19\n",
    "def remove_vowels(string):\n",
    "    vowels = \"aeiouAEIOU\"\n",
    "    removed_vowels = \"\"\n",
    "\n",
    "    for char in string:\n",
    "        if char not in vowels:\n",
    "            removed_vowels += char\n",
    "\n",
    "    return removed_vowels\n",
    "\n",
    "input_string = \" jogannivas\"\n",
    "result = remove_vowels(input_string)\n",
    "print(\"String without vowels:\", result)\n"
   ]
  },
  {
   "cell_type": "code",
   "execution_count": 36,
   "id": "f1c1b4cc-1941-4b65-b54d-7a55f60ef451",
   "metadata": {},
   "outputs": [
    {
     "name": "stdout",
     "output_type": "stream",
     "text": [
      "Reversed sentence: think i that good too am I\n"
     ]
    }
   ],
   "source": [
    "#Q20\n",
    "def reverse_words(sentence):\n",
    "    words = sentence.split()  \n",
    "    reversed_words = ' '.join(reversed(words))  \n",
    "    return reversed_words\n",
    "\n",
    "input_sentence = \"I am too good that i think\"\n",
    "reversed_sentence = reverse_words(input_sentence)\n",
    "print(\"Reversed sentence:\", reversed_sentence)\n"
   ]
  },
  {
   "cell_type": "code",
   "execution_count": 37,
   "id": "97a81db6-d167-488f-9b62-b5800f17c897",
   "metadata": {},
   "outputs": [
    {
     "name": "stdout",
     "output_type": "stream",
     "text": [
      "listen and silent are anagrams.\n"
     ]
    }
   ],
   "source": [
    "#Q21\n",
    "def are_anagrams(str1, str2):\n",
    "    str1 = str1.lower().replace(\" \", \"\") \n",
    "    str2 = str2.lower().replace(\" \", \"\")\n",
    "\n",
    "    return sorted(str1) == sorted(str2)\n",
    "\n",
    "string1 = \"listen\"\n",
    "string2 = \"silent\"\n",
    "if are_anagrams(string1, string2):\n",
    "    print(f\"{string1} and {string2} are anagrams.\")\n",
    "else:\n",
    "    print(f\"{string1} and {string2} are not anagrams.\")\n"
   ]
  },
  {
   "cell_type": "code",
   "execution_count": 39,
   "id": "f682c563-d5d7-4a3c-b15c-42a47fb82e0d",
   "metadata": {},
   "outputs": [
    {
     "name": "stdout",
     "output_type": "stream",
     "text": [
      "First non-repeating character: c\n"
     ]
    }
   ],
   "source": [
    "#q22\n",
    "def find_first_non_repeating_char(string):\n",
    "    char_count = {}\n",
    "  \n",
    "    for char in string:\n",
    "        if char in char_count:\n",
    "            char_count[char] += 1\n",
    "        else:\n",
    "            char_count[char] = 1\n",
    "\n",
    "    for char in string:\n",
    "        if char_count[char] == 1:\n",
    "            return char\n",
    "\n",
    "    return None\n",
    "\n",
    "\n",
    "input_string = \"aabbcdeeffggmkv\"\n",
    "result = find_first_non_repeating_char(input_string)\n",
    "if result:\n",
    "    print(\"First non-repeating character:\", result)\n",
    "else:\n",
    "    print(\"No non-repeating character found.\")\n"
   ]
  },
  {
   "cell_type": "code",
   "execution_count": 41,
   "id": "467e3919-df2c-4be3-9014-90b59dbafd53",
   "metadata": {},
   "outputs": [
    {
     "name": "stdout",
     "output_type": "stream",
     "text": [
      "Prime factors of 98 are: [2, 7, 7]\n"
     ]
    }
   ],
   "source": [
    "#Q23\n",
    "def find_prime_factors(number):\n",
    "    factors = []\n",
    "    divisor = 2\n",
    "\n",
    "    while divisor <= number:\n",
    "        if number % divisor == 0:\n",
    "            factors.append(divisor)\n",
    "            number = number // divisor\n",
    "        else:\n",
    "            divisor += 1\n",
    "\n",
    "    return factors\n",
    "\n",
    "\n",
    "num = 98\n",
    "prime_factors = find_prime_factors(num)\n",
    "print(\"Prime factors of\", num, \"are:\", prime_factors)\n"
   ]
  },
  {
   "cell_type": "code",
   "execution_count": 42,
   "id": "22f6fd43-f4b3-409b-9563-95425a70127d",
   "metadata": {},
   "outputs": [
    {
     "name": "stdout",
     "output_type": "stream",
     "text": [
      "32 is a power of two.\n"
     ]
    }
   ],
   "source": [
    "#Q24\n",
    "def is_power_of_two(number):\n",
    "    if number <= 0:\n",
    "        return False\n",
    "    return (number & (number - 1)) == 0\n",
    "\n",
    "\n",
    "num = 32\n",
    "if is_power_of_two(num):\n",
    "    print(num, \"is a power of two.\")\n",
    "else:\n",
    "    print(num, \"is not a power of two.\")\n"
   ]
  },
  {
   "cell_type": "code",
   "execution_count": 43,
   "id": "040574be-98bb-4b6a-8382-6b927c0634c9",
   "metadata": {},
   "outputs": [
    {
     "name": "stdout",
     "output_type": "stream",
     "text": [
      "Merged sorted list: [1, 2, 3, 4, 5, 6, 7, 8]\n"
     ]
    }
   ],
   "source": [
    "#Q25\n",
    "def merge_sorted_lists(list1, list2):\n",
    "    merged_list = []\n",
    "    i, j = 0, 0\n",
    "\n",
    "    while i < len(list1) and j < len(list2):\n",
    "        if list1[i] <= list2[j]:\n",
    "            merged_list.append(list1[i])\n",
    "            i += 1\n",
    "        else:\n",
    "            merged_list.append(list2[j])\n",
    "            j += 1\n",
    "\n",
    "   \n",
    "    while i < len(list1):\n",
    "        merged_list.append(list1[i])\n",
    "        i += 1\n",
    "\n",
    "   \n",
    "    while j < len(list2):\n",
    "        merged_list.append(list2[j])\n",
    "        j += 1\n",
    "\n",
    "    return merged_list\n",
    "\n",
    "\n",
    "list_a = [1, 3, 5, 7]\n",
    "list_b = [2, 4, 6, 8]\n",
    "merged_list = merge_sorted_lists(list_a, list_b)\n",
    "print(\"Merged sorted list:\", merged_list)\n"
   ]
  },
  {
   "cell_type": "code",
   "execution_count": 44,
   "id": "1c9e0e0d-97bb-4736-ab02-4b458c7523aa",
   "metadata": {},
   "outputs": [
    {
     "name": "stdout",
     "output_type": "stream",
     "text": [
      "The mode of the numbers is: 3\n"
     ]
    }
   ],
   "source": [
    "#Q26\n",
    "from collections import Counter\n",
    "\n",
    "def find_mode(numbers):\n",
    "    counter = Counter(numbers)\n",
    "    mode = counter.most_common(1)[0][0]\n",
    "    return mode\n",
    "\n",
    "\n",
    "number_list = [1, 2, 2, 3, 3, 3, 4, 4, 5]\n",
    "mode_value = find_mode(number_list)\n",
    "print(\"The mode of the numbers is:\", mode_value)\n"
   ]
  },
  {
   "cell_type": "code",
   "execution_count": 47,
   "id": "1cee28c8-2c94-4ee4-a895-279df2852e67",
   "metadata": {},
   "outputs": [
    {
     "name": "stdout",
     "output_type": "stream",
     "text": [
      "The GCD of 366 and 480 is: 6\n"
     ]
    }
   ],
   "source": [
    "#Q27\n",
    "def find_gcd(a, b):\n",
    "    while b != 0:\n",
    "        a, b = b, a % b\n",
    "    return a\n",
    "\n",
    "\n",
    "num1 = 366\n",
    "num2 = 480\n",
    "gcd = find_gcd(num1, num2)\n",
    "print(\"The GCD of\", num1, \"and\", num2, \"is:\", gcd)\n"
   ]
  },
  {
   "cell_type": "code",
   "execution_count": 50,
   "id": "c07dd4ba-c4bb-49af-96c4-e01649352862",
   "metadata": {},
   "outputs": [
    {
     "name": "stdout",
     "output_type": "stream",
     "text": [
      "The square root of 144 is: 12.0\n"
     ]
    }
   ],
   "source": [
    "#Q28\n",
    "def square_root(number):\n",
    "    if number < 0:\n",
    "        raise ValueError(\"Square root undefined for negative numbers.\")\n",
    "    \n",
    "    if number == 0:\n",
    "        return 0\n",
    "\n",
    "    guess = number / 2 \n",
    "    prev_guess = 0\n",
    "\n",
    "    while abs(guess - prev_guess) >= 0.0001:\n",
    "        prev_guess = guess\n",
    "        guess = (guess + number / guess) / 2\n",
    "\n",
    "    return guess\n",
    "\n",
    "\n",
    "num = 144\n",
    "sqrt = square_root(num)\n",
    "print(\"The square root of\", num, \"is:\", sqrt)\n"
   ]
  },
  {
   "cell_type": "code",
   "execution_count": 54,
   "id": "acf181cb-5a76-42f5-afdd-0cc808db5ea4",
   "metadata": {},
   "outputs": [
    {
     "name": "stdout",
     "output_type": "stream",
     "text": [
      "The string 'this is a sisiht' is a valid palindrome.\n"
     ]
    }
   ],
   "source": [
    "#Q29\n",
    "import re\n",
    "\n",
    "def is_valid_palindrome(string):\n",
    "    alphanumeric_string = re.sub('[^a-zA-Z0-9]', '', string)  \n",
    "    lowercase_string = alphanumeric_string.lower() \n",
    "    reversed_string = lowercase_string[::-1]  \n",
    "    \n",
    "    return lowercase_string == reversed_string\n",
    "\n",
    "\n",
    "input_string = \"this is a sisiht\"\n",
    "if is_valid_palindrome(input_string):\n",
    "    print(f\"The string '{input_string}' is a valid palindrome.\")\n",
    "else:\n",
    "    print(f\"The string '{input_string}' is not a valid palindrome.\")\n"
   ]
  },
  {
   "cell_type": "code",
   "execution_count": 56,
   "id": "0952ce37-e6ac-4190-acb2-0443b4f51bd5",
   "metadata": {},
   "outputs": [
    {
     "name": "stdout",
     "output_type": "stream",
     "text": [
      "Minimum element in the rotated sorted list: -5\n"
     ]
    }
   ],
   "source": [
    "#q30\n",
    "def find_minimum_element(nums):\n",
    "    left = 0\n",
    "    right = len(nums) - 1\n",
    "\n",
    "    while left < right:\n",
    "        mid = (left + right) // 2\n",
    "\n",
    "        if nums[mid] > nums[right]:\n",
    "            left = mid + 1\n",
    "        else:\n",
    "            right = mid\n",
    "\n",
    "    return nums[left]\n",
    "\n",
    "\n",
    "rotated_list = [4, 5, 6, 7, 0, 1, 2,-5]\n",
    "minimum_element = find_minimum_element(rotated_list)\n",
    "print(\"Minimum element in the rotated sorted list:\", minimum_element)\n"
   ]
  },
  {
   "cell_type": "code",
   "execution_count": 57,
   "id": "877120ff-2788-41b6-ba23-2e8c196cea90",
   "metadata": {},
   "outputs": [
    {
     "name": "stdout",
     "output_type": "stream",
     "text": [
      "Sum of even numbers: 30\n"
     ]
    }
   ],
   "source": [
    "#Q31\n",
    "def sum_of_even_numbers(numbers):\n",
    "    even_sum = 0\n",
    "    for num in numbers:\n",
    "        if num % 2 == 0:\n",
    "            even_sum += num\n",
    "    return even_sum\n",
    "\n",
    "numbers_list = [1, 2, 3, 4, 5, 6, 7, 8, 9, 10]\n",
    "result = sum_of_even_numbers(numbers_list)\n",
    "print(\"Sum of even numbers:\", result)\n"
   ]
  },
  {
   "cell_type": "code",
   "execution_count": 64,
   "id": "564020ed-deb2-467a-80a7-7ad61a781298",
   "metadata": {},
   "outputs": [
    {
     "name": "stdout",
     "output_type": "stream",
     "text": [
      "2 raised to the power of 45 is: 35184372088832\n"
     ]
    }
   ],
   "source": [
    "#Q32\n",
    "def power(base, exponent):\n",
    "    if exponent == 0:\n",
    "        return 1\n",
    "    elif exponent < 0:\n",
    "        return 1 / power(base, -exponent)\n",
    "    else:\n",
    "        return base * power(base, exponent - 1)\n",
    "\n",
    "\n",
    "base = 2\n",
    "exponent = 45\n",
    "result = power(base, exponent)\n",
    "print(base, \"raised to the power of\", exponent, \"is:\", result)\n"
   ]
  },
  {
   "cell_type": "code",
   "execution_count": 65,
   "id": "2af95060-fed1-4fc2-a2b6-bcafded33fcb",
   "metadata": {},
   "outputs": [
    {
     "name": "stdout",
     "output_type": "stream",
     "text": [
      "List with duplicates removed: [1, 2, 3, 4, 5, 6]\n"
     ]
    }
   ],
   "source": [
    "#Q33\n",
    "def remove_duplicates(input_list):\n",
    "    unique_list = []\n",
    "    seen = set()\n",
    "    for item in input_list:\n",
    "        if item not in seen:\n",
    "            unique_list.append(item)\n",
    "            seen.add(item)\n",
    "    return unique_list\n",
    "\n",
    "my_list = [1, 2, 3, 2, 4, 1, 5, 4, 6, 5]\n",
    "result = remove_duplicates(my_list)\n",
    "print(\"List with duplicates removed:\", result)\n"
   ]
  },
  {
   "cell_type": "code",
   "execution_count": 68,
   "id": "7d94735b-3c35-454b-845f-d945426a79e8",
   "metadata": {},
   "outputs": [
    {
     "name": "stdout",
     "output_type": "stream",
     "text": [
      "Longest common prefix: fl\n"
     ]
    }
   ],
   "source": [
    "#Q34\n",
    "def longest_common_prefix(strs):\n",
    "    if not strs:\n",
    "        return \"\"\n",
    "    \n",
    "    shortest_str = min(strs, key=len)\n",
    "    \n",
    "    for i, char in enumerate(shortest_str):\n",
    "        if any(string[i] != char for string in strs):\n",
    "            return shortest_str[:i]\n",
    "    \n",
    "    return shortest_str\n",
    "\n",
    "string_list = [\"flowers\", \"flows\", \"flights\"]\n",
    "result = longest_common_prefix(string_list)\n",
    "print(\"Longest common prefix:\", result)\n"
   ]
  },
  {
   "cell_type": "code",
   "execution_count": 69,
   "id": "8b4e9724-6dcc-4db2-94c6-ca541fead7e0",
   "metadata": {},
   "outputs": [
    {
     "name": "stdout",
     "output_type": "stream",
     "text": [
      "20 is a perfect square: False\n"
     ]
    }
   ],
   "source": [
    "#Q35\n",
    "import math\n",
    "\n",
    "def is_perfect_square(number):\n",
    "    sqrt = math.isqrt(number)\n",
    "    return sqrt * sqrt == number\n",
    "\n",
    "num = 20\n",
    "result = is_perfect_square(num)\n",
    "print(num, \"is a perfect square:\", result)\n"
   ]
  },
  {
   "cell_type": "code",
   "execution_count": 70,
   "id": "b484f36d-a6bf-40f3-b93d-dd53ba51940e",
   "metadata": {},
   "outputs": [
    {
     "name": "stdout",
     "output_type": "stream",
     "text": [
      "Product of all elements: 120\n"
     ]
    }
   ],
   "source": [
    "#Q36\n",
    "def calculate_product(numbers):\n",
    "    product = 1\n",
    "    for num in numbers:\n",
    "        product *= num\n",
    "    return product\n",
    "\n",
    "numbers_list = [2, 3, 4, 5]\n",
    "result = calculate_product(numbers_list)\n",
    "print(\"Product of all elements:\", result)\n"
   ]
  },
  {
   "cell_type": "code",
   "execution_count": 71,
   "id": "1859f504-5c1b-44bd-8aff-2040307d1347",
   "metadata": {},
   "outputs": [
    {
     "name": "stdout",
     "output_type": "stream",
     "text": [
      "Reversed sentence: you? are how Hello,\n"
     ]
    }
   ],
   "source": [
    "#Q37\n",
    "def reverse_sentence(sentence):\n",
    "    words = sentence.split()  \n",
    "    reversed_words = words[::-1] \n",
    "    reversed_sentence = \" \".join(reversed_words)  \n",
    "    return reversed_sentence\n",
    "\n",
    "\n",
    "input_sentence = \"Hello, how are you?\"\n",
    "reversed_sentence = reverse_sentence(input_sentence)\n",
    "print(\"Reversed sentence:\", reversed_sentence)\n"
   ]
  },
  {
   "cell_type": "code",
   "execution_count": 72,
   "id": "3779b9ea-2eff-4c1c-bce7-3a571eda5ae8",
   "metadata": {},
   "outputs": [
    {
     "name": "stdout",
     "output_type": "stream",
     "text": [
      "Missing number: 1\n"
     ]
    }
   ],
   "source": [
    "#Q38\n",
    "def find_missing_number(numbers):\n",
    "    n = len(numbers) + 1\n",
    "    expected_sum = (n * (n + 1)) // 2\n",
    "    actual_sum = sum(numbers)\n",
    "    missing_number = expected_sum - actual_sum\n",
    "    return missing_number\n",
    "consecutive_numbers = [1, 2, 3, 5, 6, 7, 8,10,12]\n",
    "result = find_missing_number(consecutive_numbers)\n",
    "print(\"Missing number:\", result)\n"
   ]
  },
  {
   "cell_type": "code",
   "execution_count": 73,
   "id": "8d79b007-5f74-44a2-9d18-09f1bfd468a7",
   "metadata": {},
   "outputs": [
    {
     "name": "stdout",
     "output_type": "stream",
     "text": [
      "Sum of digits: 52\n"
     ]
    }
   ],
   "source": [
    "#Q39\n",
    "def sum_of_digits(number):\n",
    "    total_sum = 0\n",
    "    while number > 0:\n",
    "        digit = number % 10\n",
    "        total_sum += digit\n",
    "        number //= 10\n",
    "    return total_sum\n",
    "num = 12345678925\n",
    "result = sum_of_digits(num)\n",
    "print(\"Sum of digits:\", result)\n"
   ]
  },
  {
   "cell_type": "code",
   "execution_count": 75,
   "id": "79a4cf61-9e6b-40b4-a198-71b6546ca868",
   "metadata": {},
   "outputs": [
    {
     "name": "stdout",
     "output_type": "stream",
     "text": [
      "Is palindrome: True\n"
     ]
    }
   ],
   "source": [
    "#Q40\n",
    "def is_palindrome(string):\n",
    "    reversed_string = string[::-1]\n",
    "    return string == reversed_string\n",
    "input_string = \"jhakshskahj\"\n",
    "result = is_palindrome(input_string)\n",
    "print(\"Is palindrome:\", result)\n"
   ]
  },
  {
   "cell_type": "code",
   "execution_count": 76,
   "id": "ade4c2b3-67ca-4add-86c3-ea2f159188a2",
   "metadata": {},
   "outputs": [
    {
     "name": "stdout",
     "output_type": "stream",
     "text": [
      "Smallest missing positive integer: 2\n"
     ]
    }
   ],
   "source": [
    "#Q41\n",
    "def find_smallest_missing_positive(nums):\n",
    "    n = len(nums)\n",
    "\n",
    "    j = 0\n",
    "    for i in range(n):\n",
    "        if nums[i] <= 0:\n",
    "            nums[i], nums[j] = nums[j], nums[i]\n",
    "            j += 1\n",
    "\n",
    "    nums = nums[j:]\n",
    "\n",
    "    for i in range(len(nums)):\n",
    "        index = abs(nums[i]) - 1\n",
    "        if index < len(nums) and nums[index] > 0:\n",
    "            nums[index] = -nums[index]\n",
    "\n",
    "    for i in range(len(nums)):\n",
    "        if nums[i] > 0:\n",
    "            return i + 1\n",
    "\n",
    "    return len(nums) + 1\n",
    "\n",
    "numbers = [3, 4, -1, 1]\n",
    "result = find_smallest_missing_positive(numbers)\n",
    "print(\"Smallest missing positive integer:\", result)\n"
   ]
  },
  {
   "cell_type": "code",
   "execution_count": 77,
   "id": "6c87fb0c-a1be-46d6-8612-857c2106fdd9",
   "metadata": {},
   "outputs": [],
   "source": [
    "#Q42\n"
   ]
  },
  {
   "cell_type": "code",
   "execution_count": 79,
   "id": "0e6fae14-cf56-476a-bbef-1a4dbff89348",
   "metadata": {},
   "outputs": [
    {
     "name": "stdout",
     "output_type": "stream",
     "text": [
      "Number of occurrences: 4\n"
     ]
    }
   ],
   "source": [
    "#Q43\n",
    "def count_occurrences(lst, element):\n",
    "    count = 0\n",
    "    for item in lst:\n",
    "        if item == element:\n",
    "            count += 1\n",
    "    return count\n",
    "\n",
    "my_list = [1, 2, 3, 4, 2, 2, 5, 6, 2,45]\n",
    "element_to_find = 2\n",
    "result = count_occurrences(my_list, element_to_find)\n",
    "print(\"Number of occurrences:\", result)\n"
   ]
  },
  {
   "cell_type": "code",
   "execution_count": 81,
   "id": "e629d766-f8f9-4515-8e54-5570a040f583",
   "metadata": {},
   "outputs": [
    {
     "name": "stdout",
     "output_type": "stream",
     "text": [
      "Is perfect number: False\n"
     ]
    }
   ],
   "source": [
    "#Q44\n",
    "def is_perfect_number(number):\n",
    "    if number <= 0:\n",
    "        return False\n",
    "\n",
    "    divisor_sum = 0\n",
    "    for i in range(1, number):\n",
    "        if number % i == 0:\n",
    "            divisor_sum += i\n",
    "\n",
    "    return divisor_sum == number\n",
    "\n",
    "num = 30\n",
    "result = is_perfect_number(num)\n",
    "print(\"Is perfect number:\", result)\n"
   ]
  },
  {
   "cell_type": "code",
   "execution_count": 82,
   "id": "0b1e7c54-f572-4657-b817-dce6afdffdf7",
   "metadata": {},
   "outputs": [
    {
     "name": "stdout",
     "output_type": "stream",
     "text": [
      "String with duplicates removed: yoga_br\n"
     ]
    }
   ],
   "source": [
    "#Q45\n",
    "def remove_duplicates(string):\n",
    "    unique_chars = []\n",
    "    for char in string:\n",
    "        if char not in unique_chars:\n",
    "            unique_chars.append(char)\n",
    "    return ''.join(unique_chars)\n",
    "\n",
    "input_string = \"yoga_bro\"\n",
    "result = remove_duplicates(input_string)\n",
    "print(\"String with duplicates removed:\", result)\n"
   ]
  },
  {
   "cell_type": "code",
   "execution_count": null,
   "id": "cf4be442-5fb8-4869-837f-c57943d08a8d",
   "metadata": {},
   "outputs": [],
   "source": [
    "#Q46"
   ]
  }
 ],
 "metadata": {
  "kernelspec": {
   "display_name": "Python 3 (ipykernel)",
   "language": "python",
   "name": "python3"
  },
  "language_info": {
   "codemirror_mode": {
    "name": "ipython",
    "version": 3
   },
   "file_extension": ".py",
   "mimetype": "text/x-python",
   "name": "python",
   "nbconvert_exporter": "python",
   "pygments_lexer": "ipython3",
   "version": "3.10.6"
  }
 },
 "nbformat": 4,
 "nbformat_minor": 5
}

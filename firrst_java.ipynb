{
  "nbformat": 4,
  "nbformat_minor": 0,
  "metadata": {
    "colab": {
      "provenance": []
    },
    "kernelspec": {
      "name": "python3",
      "display_name": "Python 3"
    },
    "language_info": {
      "name": "python"
    }
  },
  "cells": [
    {
      "cell_type": "markdown",
      "source": [
        "#Q1\n",
        "\n",
        "The Spring Framework is an open-source application framework for Java-based enterprise applications. It provides a comprehensive programming and configuration model for developing Java applications. The framework was initially created to address the complexity of enterprise application development and to promote good programming practices such as modularity, loose coupling, and testability."
      ],
      "metadata": {
        "id": "gdRTdc9Rrtz7"
      }
    },
    {
      "cell_type": "markdown",
      "source": [
        "#Q2\n",
        "\n",
        "The Spring Framework offers a wide range of features that can be categorized into the following key areas:\n",
        "\n",
        "Dependency Injection (DI): Spring's DI container manages the dependencies between objects, allowing for loose coupling and easier testing. It promotes the use of interfaces and decouples object creation from its usage, enhancing modularity and maintainability.\n",
        "\n",
        "Aspect-Oriented Programming (AOP): Spring provides AOP capabilities, allowing developers to modularize cross-cutting concerns such as logging, security, and transaction management. AOP enables the separation of concerns and promotes code reusability.\n",
        "\n",
        "Spring MVC: The Spring MVC (Model-View-Controller) framework is a part of the Spring ecosystem that provides a robust architecture for building web applications. It offers features like request handling, routing, view resolution, and support for RESTful web services."
      ],
      "metadata": {
        "id": "pIkoKw-frtwz"
      }
    },
    {
      "cell_type": "markdown",
      "source": [
        "#Q3\n",
        "\n",
        "In the context of the Spring Framework, a Spring configuration file is an XML or Java-based configuration file that defines the beans (objects) and their dependencies within an application. It specifies how Spring should create and wire the objects in the application context.\n",
        "\n",
        "In XML-based configuration, the configuration file typically has a .xml extension and follows a specific schema defined by Spring. It contains XML elements that define beans, their dependencies, and various configuration options."
      ],
      "metadata": {
        "id": "yc26v4gbrttr"
      }
    },
    {
      "cell_type": "markdown",
      "source": [
        "#Q4\n",
        "\n",
        "\n",
        "In the context of the Spring Framework, an IoC (Inversion of Control) container, also known as the Spring container, is a core component that manages the lifecycle of objects (beans) and controls their dependencies. The container is responsible for creating, configuring, and assembling the objects based on the configuration metadata provided.\n",
        "\n",
        "The IoC container implements the principle of Inversion of Control, where the control of object creation and dependency injection is handed over to the container rather than being managed by the application code itself. Instead of manually creating objects and wiring them together, the container takes care of these tasks based on the configuration."
      ],
      "metadata": {
        "id": "cwcZh-VQrtqc"
      }
    },
    {
      "cell_type": "markdown",
      "source": [
        "#Q5\n",
        "\n",
        "Dependency Injection (DI) is a software design pattern that allows the separation of dependencies from the classes that use them. It enables the inversion of control, where the responsibility of creating and providing dependencies is delegated to an external entity.\n",
        "\n",
        "In the context of object-oriented programming, a class often depends on other classes or objects to perform its tasks. These dependencies can be services, data sources, configuration objects, or other collaborating classes. Traditionally, a class would directly create or look up its dependencies, resulting in tight coupling and making it difficult to change or test the class in isolation."
      ],
      "metadata": {
        "id": "52EhSVdFrtnc"
      }
    },
    {
      "cell_type": "markdown",
      "source": [
        "#Q6\n",
        "\n",
        "Constructor injection and setter injection are two approaches to implementing Dependency Injection (DI). They differ in how dependencies are provided to an object. Here's a comparison between the two:\n",
        "\n",
        "Constructor Injection:\n",
        "\n",
        "In constructor injection, dependencies are provided through the constructor of a class.\n",
        "The dependencies are declared as parameters of the constructor.\n",
        "The dependencies must be provided at the time of object creation, ensuring that the object is fully initialized with its dependencies.\n",
        "Once the dependencies are provided through the constructor, they are typically stored as private member variables of the class.\n",
        "Constructor injection promotes immutability, as the dependencies are set during object creation and cannot be modified"
      ],
      "metadata": {
        "id": "O6gPKWuTrtj1"
      }
    },
    {
      "cell_type": "markdown",
      "source": [
        "#Q7\n",
        "\n",
        "In the context of the Spring Framework, a Spring Bean is an object that is managed by the Spring IoC container. It is an instance of a class that is created, configured, and managed by the Spring container based on the provided configuration metadata.\n",
        "\n",
        "Spring Beans play a central role in the Spring Framework, and they offer several important features and benefits:\n",
        "\n",
        "Managed Lifecycle: Spring Beans are managed by the Spring container, which controls their lifecycle. The container creates and initializes beans, as well as destroys them when they are no longer needed.\n",
        "\n",
        "Dependency Injection: Spring Beans can have dependencies on other beans or resources. The Spring container handles the injection of dependencies into the beans, allowing for loose coupling and modularity.\n",
        "\n",
        "Configuration Flexibility: Spring Beans can be configured in various ways, including XML configuration files, Java annotations, or Java-based configuration classes. This flexibility allows developers to choose the most appropriate method for their needs.\n",
        "\n",
        "Aspect-Oriented Programming (AOP): Spring Beans can participate in AOP, allowing for cross-cutting concerns such as logging, security, and transaction management to be applied to the beans.\n",
        "\n",
        "Scoped Instances: Spring Beans can have different scopes, such as singleton, prototype, request, session, etc. This enables fine-grained control over the lifecycle and usage of beans in different parts of an application."
      ],
      "metadata": {
        "id": "E9-1oFWNrtgc"
      }
    },
    {
      "cell_type": "markdown",
      "source": [
        "#Q8\n",
        "\n",
        "Spring Bean Scopes allows us to have more granular control of the bean instances creation. Sometimes we want to create bean instance as singleton but in some other cases we might want it to be created on every request or once in a session."
      ],
      "metadata": {
        "id": "CtF2nihvrs2D"
      }
    },
    {
      "cell_type": "markdown",
      "source": [
        "#Q9\n",
        "\n"
      ],
      "metadata": {
        "id": "BXI8N4L0rszT"
      }
    },
    {
      "cell_type": "markdown",
      "source": [],
      "metadata": {
        "id": "N_5fxIiFrsue"
      }
    },
    {
      "cell_type": "code",
      "execution_count": null,
      "metadata": {
        "id": "AkwywE_lrrg7"
      },
      "outputs": [],
      "source": []
    }
  ]
}
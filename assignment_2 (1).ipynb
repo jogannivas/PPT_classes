{
 "cells": [
  {
   "cell_type": "code",
   "execution_count": null,
   "id": "26737757-808b-43da-95a1-4adc2ff37e4e",
   "metadata": {},
   "outputs": [],
   "source": []
  },
  {
   "cell_type": "code",
   "execution_count": null,
   "id": "e6b5fd83-5d99-472f-8877-d9978e73efe1",
   "metadata": {},
   "outputs": [],
   "source": [
    "#Q1\n",
    "def arrayPairSum(nums):\n",
    "    nums.sort() \n",
    "    pair_sum = 0\n",
    "    for i in range(0, len(nums), 2): \n",
    "        pair_sum += nums[i]\n",
    "    return pair_sum \n",
    "\n",
    "\n",
    "nums = [1, 4, 3, 2]\n",
    "print(arrayPairSum(nums)) \n"
   ]
  },
  {
   "cell_type": "code",
   "execution_count": null,
   "id": "19cea99c-7042-4e6a-944e-bddf14168a71",
   "metadata": {},
   "outputs": [],
   "source": [
    "#Q2\n",
    "def maxCandies(candyType):\n",
    "    unique_candies = len(set(candyType))  # Step 1\n",
    "    limit = len(candyType) // 2  # Step 2\n",
    "    return min(unique_candies, limit)  # Step 3\n",
    "\n",
    "# Example usage\n",
    "candyType = [1, 1, 2, 2, 3, 3]\n",
    "print(maxCandies(candyType))  # Output: 3\n"
   ]
  },
  {
   "cell_type": "code",
   "execution_count": null,
   "id": "28f40382-e036-4fb9-a842-ea973283bd6a",
   "metadata": {},
   "outputs": [],
   "source": [
    "#Q3\n",
    "from collections import Counter\n",
    "\n",
    "def findLHS(nums):\n",
    "    counter = Counter(nums)  # Step 1\n",
    "\n",
    "    max_length = 0  # Step 3\n",
    "\n",
    "    for num in counter:  # Step 4\n",
    "        if num + 1 in counter:\n",
    "            length = counter[num] + counter[num + 1]\n",
    "            max_length = max(max_length, length)\n",
    "\n",
    "    return max_length  # Step 5\n",
    "\n",
    "# Example usage\n",
    "nums = [1, 3, 2, 2, 5, 2, 3, 7]\n",
    "print(findLHS(nums))  # Output: 5\n"
   ]
  },
  {
   "cell_type": "code",
   "execution_count": null,
   "id": "a052b77b-ec12-4ba1-b815-3ebae450cd19",
   "metadata": {},
   "outputs": [],
   "source": [
    "#Q4\n",
    "def canPlaceFlowers(flowerbed, n):\n",
    "    count = 0  # Step 1\n",
    "    length = len(flowerbed)\n",
    "\n",
    "    for i in range(length):  # Step 2\n",
    "        if flowerbed[i] == 0 and (i == 0 or flowerbed[i - 1] == 0) and (i == length - 1 or flowerbed[i + 1] == 0):\n",
    "            flowerbed[i] = 1  # Step 3\n",
    "            count += 1\n",
    "\n",
    "    return count >= n  # Step 4\n",
    "\n",
    "# Example usage\n",
    "flowerbed = [1, 0, 0, 0, 1]\n",
    "n = 1\n",
    "print(canPlaceFlowers(flowerbed, n))  # Output: True\n"
   ]
  },
  {
   "cell_type": "code",
   "execution_count": null,
   "id": "ee967dec-1de6-47a6-b9c4-10afcf3747c3",
   "metadata": {},
   "outputs": [],
   "source": [
    "#Q5\n",
    "def maximumProduct(nums):\n",
    "    nums.sort()  # Step 1\n",
    "\n",
    "    product1 = nums[-1] * nums[-2] * nums[-3]  # Step 2\n",
    "    product2 = nums[0] * nums[1] * nums[-1]  # Step 3\n",
    "\n",
    "    return max(product1, product2)  # Step 4\n",
    "\n",
    "# Example usage\n",
    "nums = [1, 2, 3]\n",
    "print(maximumProduct(nums))  # Output: 6\n"
   ]
  },
  {
   "cell_type": "code",
   "execution_count": null,
   "id": "213a0d08-51c6-4652-9392-3f1dc16dc8b4",
   "metadata": {},
   "outputs": [],
   "source": [
    "#Q6\n",
    "def search(nums, target):\n",
    "    left, right = 0, len(nums) - 1  # Step 1\n",
    "\n",
    "    while left <= right:  # Step 2\n",
    "        mid = (left + right) // 2  # Step 3\n",
    "\n",
    "        if nums[mid] == target:  # Step 4\n",
    "            return mid\n",
    "        elif nums[mid] > target:\n",
    "            right = mid - 1\n",
    "        else:\n",
    "            left = mid + 1\n",
    "\n",
    "    return -1  # Step 5\n",
    "\n",
    "# Example usage\n",
    "nums = [-1, 0, 3, 5, 9, 12]\n",
    "target = 9\n",
    "print(search(nums, target))  # Output: 4\n"
   ]
  },
  {
   "cell_type": "code",
   "execution_count": null,
   "id": "6ad9f67b-fc20-4a0e-b0a6-105acc4a1b0e",
   "metadata": {},
   "outputs": [],
   "source": [
    "#Q7\n",
    "def isMonotonic(nums):\n",
    "    isIncreasing = True\n",
    "    isDecreasing = True\n",
    "\n",
    "    for i in range(1, len(nums)):\n",
    "        if isIncreasing and nums[i] < nums[i-1]:\n",
    "            isIncreasing = False\n",
    "        if isDecreasing and nums[i] > nums[i-1]:\n",
    "            isDecreasing = False\n",
    "\n",
    "    return isIncreasing or isDecreasing\n",
    "\n",
    "# Example usage\n",
    "nums = [1, 2, 2, 3]\n",
    "print(isMonotonic(nums))  # Output: True\n"
   ]
  },
  {
   "cell_type": "code",
   "execution_count": null,
   "id": "b294a5d6-4d31-43e8-a02c-880c3cb7ecf0",
   "metadata": {},
   "outputs": [],
   "source": [
    "#Q8\n",
    "def minimumScore(nums, k):\n",
    "    minScore = float('inf')\n",
    "    maxScore = float('-inf')\n",
    "\n",
    "    for num in nums:\n",
    "        for x in range(-k, k + 1):\n",
    "            newNum = num + x\n",
    "            minValue = min(newNum, minScore)\n",
    "            maxValue = max(newNum, maxScore)\n",
    "            minScore = min(minScore, maxValue - minValue)\n",
    "\n",
    "    return minScore\n",
    "\n",
    "# Example usage\n",
    "nums = [1, 3, 7]\n",
    "k = 3\n",
    "print(minimumScore(nums, k))  # Output: 0\n"
   ]
  },
  {
   "cell_type": "code",
   "execution_count": null,
   "id": "bde35c5d-af85-424b-aeaa-82d7768aa13a",
   "metadata": {},
   "outputs": [],
   "source": []
  }
 ],
 "metadata": {
  "kernelspec": {
   "display_name": "Python 3 (ipykernel)",
   "language": "python",
   "name": "python3"
  },
  "language_info": {
   "codemirror_mode": {
    "name": "ipython",
    "version": 3
   },
   "file_extension": ".py",
   "mimetype": "text/x-python",
   "name": "python",
   "nbconvert_exporter": "python",
   "pygments_lexer": "ipython3",
   "version": "3.10.6"
  }
 },
 "nbformat": 4,
 "nbformat_minor": 5
}

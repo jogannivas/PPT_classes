{
 "cells": [
  {
   "cell_type": "code",
   "execution_count": 2,
   "id": "ed4dfc3d-3132-42a1-ac9d-034184dc7e30",
   "metadata": {},
   "outputs": [
    {
     "name": "stdout",
     "output_type": "stream",
     "text": [
      "[[1, 2], [3, 4]]\n"
     ]
    }
   ],
   "source": [
    "def array(original, m, n):\n",
    "    if m * n != len(original):\n",
    "        return [] \n",
    "    result = [[0] * n for _ in range(m)] \n",
    "    for i in range(m):\n",
    "        for j in range(n):\n",
    "            result[i][j] = original[i * n + j]\n",
    "\n",
    "    return result\n",
    "original = [1, 2, 3, 4]\n",
    "m = 2\n",
    "n = 2\n",
    "\n",
    "result = array(original, m, n)\n",
    "print(result)\n",
    "\n"
   ]
  },
  {
   "cell_type": "code",
   "execution_count": 1,
   "id": "750c82ba-2731-43e2-b7dc-9121c3d8e52b",
   "metadata": {},
   "outputs": [
    {
     "name": "stdout",
     "output_type": "stream",
     "text": [
      "2\n"
     ]
    }
   ],
   "source": [
    "def count_rows(x):\n",
    "    k = 1\n",
    "    while (k * (k + 1)) // 2 <= x:\n",
    "        k += 1\n",
    "    return k - 1\n",
    "x = 5\n",
    "result = count_rows(x)\n",
    "print(result)\n"
   ]
  },
  {
   "cell_type": "code",
   "execution_count": 5,
   "id": "477613fc-e4b0-47ee-9679-797793bc1812",
   "metadata": {},
   "outputs": [
    {
     "name": "stdout",
     "output_type": "stream",
     "text": [
      "[0, 1, 9, 16, 100]\n"
     ]
    }
   ],
   "source": [
    "def sorting_num(n):\n",
    "    sq_of_nums = [num ** 2 for num in nums]\n",
    "    sort_nums = sorted(sq_of_nums)\n",
    "    return  sort_nums\n",
    "n = [-4,-1,0,3,10]\n",
    "result =sorting_num(n)\n",
    "print(result)\n"
   ]
  },
  {
   "cell_type": "code",
   "execution_count": 7,
   "id": "857fd0d8-39a2-45c0-922e-38c4929ee5f1",
   "metadata": {},
   "outputs": [
    {
     "name": "stdout",
     "output_type": "stream",
     "text": [
      "[[1, 3], [4, 6]]\n"
     ]
    }
   ],
   "source": [
    "def disinct_number(nums1, nums2):\n",
    "    set1 = set(nums1)\n",
    "    set2 = set(nums2)\n",
    "\n",
    "    distinct_nums1 = list(set1 - set2)\n",
    "    distinct_nums2 = list(set2 - set1)\n",
    "\n",
    "    return [distinct_nums1, distinct_nums2]\n",
    "nums1 = [1, 2,3]\n",
    "nums2 = [2, 4, 6]\n",
    "\n",
    "result = disinct_number(nums1, nums2)\n",
    "print(result)\n"
   ]
  },
  {
   "cell_type": "code",
   "execution_count": 10,
   "id": "77cfa3fa-e4f8-44a7-a677-a786dae6ff23",
   "metadata": {},
   "outputs": [
    {
     "name": "stdout",
     "output_type": "stream",
     "text": [
      "2\n"
     ]
    }
   ],
   "source": [
    "def distance_value(arr1, arr2, d):\n",
    "    distance = 0\n",
    "\n",
    "    for num1 in arr1:\n",
    "        is_distance_valid = True\n",
    "        for num2 in arr2:\n",
    "            if abs(num1 - num2) <= d:\n",
    "                is_distance_valid = False\n",
    "                break\n",
    "        if is_distance_valid:\n",
    "            distance += 1\n",
    "\n",
    "    return distance\n",
    "arr1 = [4, 5, 8]\n",
    "arr2 = [10, 9, 1, 8]\n",
    "d = 2\n",
    "\n",
    "result = distance_value(arr1, arr2, d)\n",
    "print(result)\n"
   ]
  },
  {
   "cell_type": "code",
   "execution_count": 11,
   "id": "8ef57a58-23b4-49e6-8c3c-ef7b49ef1ae6",
   "metadata": {},
   "outputs": [
    {
     "name": "stdout",
     "output_type": "stream",
     "text": [
      "[2, 3]\n"
     ]
    }
   ],
   "source": [
    "def find_duplicates(nums):\n",
    "    seen = set()\n",
    "    duplicates = []\n",
    "\n",
    "    for num in nums:\n",
    "        if num in seen:\n",
    "            duplicates.append(num)\n",
    "        else:\n",
    "            seen.add(num)\n",
    "\n",
    "    return duplicates\n",
    "nums = [4, 3, 2, 7, 8, 2, 3, 1]\n",
    "result = find_duplicates(nums)\n",
    "print(result)\n"
   ]
  },
  {
   "cell_type": "code",
   "execution_count": 12,
   "id": "8ee267a1-c4cc-4708-a7c1-11a08754629e",
   "metadata": {},
   "outputs": [
    {
     "name": "stdout",
     "output_type": "stream",
     "text": [
      "1\n"
     ]
    }
   ],
   "source": [
    "def find_minimum(nums):\n",
    "    left = 0\n",
    "    right = len(nums) - 1\n",
    "\n",
    "    while left < right:\n",
    "        mid = left + (right - left) // 2\n",
    "\n",
    "       \n",
    "        if nums[mid] > nums[right]:\n",
    "            left = mid + 1\n",
    "        else:\n",
    "            right = mid\n",
    "\n",
    "    return nums[left]\n",
    "nums = [3,5,4,1,2]\n",
    "result = find_minimum(nums)\n",
    "print(result)\n"
   ]
  },
  {
   "cell_type": "code",
   "execution_count": null,
   "id": "e58ad239-553e-4a0a-b092-967b294feb62",
   "metadata": {},
   "outputs": [],
   "source": [
    "from collections import defaultdict\n",
    "\n",
    "def find_original(changed):\n",
    "    frequency = defaultdict(int)\n",
    "\n",
    "    for num in changed:\n",
    "        frequency[num] += 1\n",
    "\n",
    "    for num in changed:\n",
    "        if frequency[num] > 0:\n",
    "            if frequency[num / 2] > 0:\n",
    "                frequency[num / 2] -= 1\n",
    "            else:\n",
    "                return []  # changed is not a doubled array\n",
    "\n",
    "    return list(frequency.keys())\n",
    "changed = [1, 3, 2, 6, 4, 12, 8]\n",
    "result = find_original(changed)\n",
    "print(result)\n"
   ]
  }
 ],
 "metadata": {
  "kernelspec": {
   "display_name": "Python 3 (ipykernel)",
   "language": "python",
   "name": "python3"
  },
  "language_info": {
   "codemirror_mode": {
    "name": "ipython",
    "version": 3
   },
   "file_extension": ".py",
   "mimetype": "text/x-python",
   "name": "python",
   "nbconvert_exporter": "python",
   "pygments_lexer": "ipython3",
   "version": "3.10.6"
  }
 },
 "nbformat": 4,
 "nbformat_minor": 5
}
